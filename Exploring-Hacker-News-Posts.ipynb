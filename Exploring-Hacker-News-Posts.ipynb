{
 "cells": [
  {
   "cell_type": "markdown",
   "metadata": {
    "collapsed": true
   },
   "source": [
    "## Guided Project - Hacker News \n",
    "\n",
    "#### Hacker News posts from the past 12 months (including # of votes and comments)\n",
    "\n",
    "This [data set](https://www.kaggle.com/hacker-news/hacker-news-posts#HN_posts_year_to_Sep_26_2016.csv) is Hacker News posts from the last 12 months (up to September 26 2016).\n",
    "\n",
    "It includes the following columns:\n",
    "\n",
    "* `title`: title of the post (self explanatory)\n",
    "\n",
    "* `url`: the url of the item being linked to\n",
    "\n",
    "* `num_points`: the number of upvotes the post received\n",
    "\n",
    "* `num_comments`: the number of comments the post received\n",
    "\n",
    "* `author`: the name of the account that made the post\n",
    "\n",
    "* `created_at`: the date and time the post was made (the time zone is Eastern Time in the US)\n",
    "\n",
    "\n",
    "In this project we are specifically interested in posts whose titles begin with either `Ask HN` or `Show HN`. Users submit Ask HN posts to ask the Hacker News community a specific question. Likewise, users submit `Show HN` posts to show the Hacker News community a project, product, or just generally something interesting.\n",
    "\n",
    "We'll compare these two types of posts to determine the following:\n",
    "\n",
    "* Do `Ask HN` or `Show HN` receive more comments on average?\n",
    "* Do posts created at a certain time receive more comments on average?\n"
   ]
  },
  {
   "cell_type": "markdown",
   "metadata": {},
   "source": [
    "### Read the file \n",
    "Read the file in as a list of lists and extract headers"
   ]
  },
  {
   "cell_type": "code",
   "execution_count": 1,
   "metadata": {
    "collapsed": false
   },
   "outputs": [
    {
     "name": "stdout",
     "output_type": "stream",
     "text": [
      "['id', 'title', 'url', 'num_points', 'num_comments', 'author', 'created_at']\n",
      "[['12224879', 'Interactive Dynamic Video', 'http://www.interactivedynamicvideo.com/', '386', '52', 'ne0phyte', '8/4/2016 11:52'], ['10975351', 'How to Use Open Source and Shut the Fuck Up at the Same Time', 'http://hueniverse.com/2016/01/26/how-to-use-open-source-and-shut-the-fuck-up-at-the-same-time/', '39', '10', 'josep2', '1/26/2016 19:30'], ['11964716', \"Florida DJs May Face Felony for April Fools' Water Joke\", 'http://www.thewire.com/entertainment/2013/04/florida-djs-april-fools-water-joke/63798/', '2', '1', 'vezycash', '6/23/2016 22:20'], ['11919867', 'Technology ventures: From Idea to Enterprise', 'https://www.amazon.com/Technology-Ventures-Enterprise-Thomas-Byers/dp/0073523429', '3', '1', 'hswarna', '6/17/2016 0:01'], ['10301696', 'Note by Note: The Making of Steinway L1037 (2007)', 'http://www.nytimes.com/2007/11/07/movies/07stein.html?_r=0', '8', '2', 'walterbell', '9/30/2015 4:12']]\n"
     ]
    }
   ],
   "source": [
    "from csv import reader\n",
    "opened_file = open(\"hacker_news.csv\")\n",
    "read_file = reader(opened_file)\n",
    "hn = list(read_file)\n",
    "headers = hn[0]\n",
    "hn= hn[1:]\n",
    "print(headers)\n",
    "print(hn[:5])\n"
   ]
  },
  {
   "cell_type": "markdown",
   "metadata": {},
   "source": [
    "### Separating the posts - Ask HN and Show HN posts"
   ]
  },
  {
   "cell_type": "code",
   "execution_count": 2,
   "metadata": {
    "collapsed": false
   },
   "outputs": [
    {
     "name": "stdout",
     "output_type": "stream",
     "text": [
      " No. of ask posts: 1744 \n",
      " No. of show posts: 1162 \n",
      " No. of other posts: 17194\n"
     ]
    }
   ],
   "source": [
    "ask_posts =[]\n",
    "show_posts =[]\n",
    "other_posts =[]\n",
    "for i in hn:\n",
    "    title = i[1]\n",
    "    if title.lower().startswith('ask hn'):\n",
    "        ask_posts.append(i)\n",
    "    elif title.lower().startswith('show hn'):\n",
    "        show_posts.append(i)\n",
    "    else:\n",
    "        other_posts.append(i)\n",
    "ask_count = len(ask_posts)\n",
    "show_count = len(show_posts)\n",
    "others_count = len(other_posts)\n",
    "print(\" No. of ask posts:\",ask_count,'\\n',\"No. of show posts:\", show_count,'\\n',\"No. of other posts:\", others_count)"
   ]
  },
  {
   "cell_type": "markdown",
   "metadata": {},
   "source": [
    "### Determine the average of comments in Ask HN and Show HN"
   ]
  },
  {
   "cell_type": "code",
   "execution_count": 3,
   "metadata": {
    "collapsed": false
   },
   "outputs": [
    {
     "name": "stdout",
     "output_type": "stream",
     "text": [
      "Average comments in ask posts: 14.038417431192661\n",
      "Average comments in show posts: 10.31669535283993\n"
     ]
    }
   ],
   "source": [
    "## ask-posts\n",
    "total_ask_comments = 0\n",
    "for posts in ask_posts:\n",
    "    num_comments = int(posts[4]) # convert to int to ease the calculation\n",
    "    total_ask_comments += num_comments\n",
    "avg_ask_comments = total_ask_comments/ask_count\n",
    "print(\"Average comments in ask posts:\",avg_ask_comments)\n",
    "\n",
    "## show-posts\n",
    "total_show_comments = 0\n",
    "for posts in show_posts:\n",
    "    num_comments = int(posts[4]) # convert to int to ease the calculation\n",
    "    total_show_comments += num_comments\n",
    "avg_show_comments = total_show_comments/show_count\n",
    "print(\"Average comments in show posts:\",avg_show_comments)\n",
    "\n",
    "\n",
    "    "
   ]
  },
  {
   "cell_type": "markdown",
   "metadata": {},
   "source": [
    "\n",
    "From the average values as seen above, we can conclude that on an average the ask posts received approx. 14 comments more  than the show posts in the HN community."
   ]
  },
  {
   "cell_type": "markdown",
   "metadata": {},
   "source": [
    "### Finding  the number of posts and comments created in a certain time (By Hour)\n",
    "\n",
    "Next, we'll determine if ask posts created at a certain time are more likely to attract comments. We'll use the following steps to perform this analysis:\n",
    "\n",
    "1. Calculate the amount of ask posts created in each hour of the day, along with the number of comments received.\n",
    "\n",
    "1. Calculate the average number of comments ask posts receive by hour created.\n"
   ]
  },
  {
   "cell_type": "code",
   "execution_count": 4,
   "metadata": {
    "collapsed": false
   },
   "outputs": [
    {
     "name": "stdout",
     "output_type": "stream",
     "text": [
      "Comments by hour \n",
      " {'17': 1146, '23': 543, '18': 1439, '20': 1722, '21': 1745, '14': 1416, '04': 337, '07': 267, '01': 683, '02': 1381, '15': 4477, '05': 464, '16': 1814, '19': 1188, '22': 479, '06': 397, '00': 447, '12': 687, '11': 641, '09': 251, '08': 492, '03': 421, '13': 1253, '10': 793}\n",
      "\n",
      "Count by hour \n",
      " {'17': 100, '23': 68, '18': 109, '20': 80, '21': 109, '14': 107, '04': 47, '07': 34, '01': 60, '02': 58, '15': 116, '05': 46, '16': 108, '19': 110, '22': 71, '06': 44, '00': 55, '12': 73, '11': 58, '09': 45, '08': 48, '03': 54, '13': 85, '10': 59}\n"
     ]
    }
   ],
   "source": [
    "# Calculate the amount of ask posts created during \n",
    "# each hour of day and the number of comments received.\n",
    "\n",
    "import datetime as dt\n",
    "result_list = []\n",
    "counts_by_hour={}\n",
    "comments_by_hour ={}\n",
    "date_format = \"%m/%d/%Y %H:%M\"\n",
    "for posts in ask_posts:\n",
    "    result_list.append(\n",
    "        [posts[6], int(posts[4])]\n",
    "    )\n",
    "\n",
    "for posts in result_list:\n",
    "    created_at = posts[0]\n",
    "    comments = int(posts[1])\n",
    "    hour = dt.datetime.strptime(created_at, date_format).strftime(\"%H\")\n",
    "    if hour in counts_by_hour:\n",
    "        counts_by_hour[hour] += 1\n",
    "        comments_by_hour[hour] += comments\n",
    "    else:\n",
    "        counts_by_hour[hour] = 1\n",
    "        comments_by_hour[hour] = comments\n",
    "print(\"Comments by hour \\n\",comments_by_hour)\n",
    "\n",
    "print(\"\\nCount by hour \\n\",counts_by_hour)\n",
    "        \n",
    "    "
   ]
  },
  {
   "cell_type": "markdown",
   "metadata": {},
   "source": [
    "### Calculate the average number of comments created for `Ask HN` posts during each hour of the day\n",
    "\n"
   ]
  },
  {
   "cell_type": "code",
   "execution_count": 5,
   "metadata": {
    "collapsed": false
   },
   "outputs": [
    {
     "data": {
      "text/plain": [
       "[['17', 11.46],\n",
       " ['23', 7.985294117647059],\n",
       " ['18', 13.20183486238532],\n",
       " ['20', 21.525],\n",
       " ['21', 16.009174311926607],\n",
       " ['14', 13.233644859813085],\n",
       " ['04', 7.170212765957447],\n",
       " ['07', 7.852941176470588],\n",
       " ['01', 11.383333333333333],\n",
       " ['02', 23.810344827586206],\n",
       " ['15', 38.5948275862069],\n",
       " ['05', 10.08695652173913],\n",
       " ['16', 16.796296296296298],\n",
       " ['19', 10.8],\n",
       " ['22', 6.746478873239437],\n",
       " ['06', 9.022727272727273],\n",
       " ['00', 8.127272727272727],\n",
       " ['12', 9.41095890410959],\n",
       " ['11', 11.051724137931034],\n",
       " ['09', 5.5777777777777775],\n",
       " ['08', 10.25],\n",
       " ['03', 7.796296296296297],\n",
       " ['13', 14.741176470588234],\n",
       " ['10', 13.440677966101696]]"
      ]
     },
     "execution_count": 5,
     "metadata": {},
     "output_type": "execute_result"
    }
   ],
   "source": [
    "# Calculate the average amount of comments \n",
    "# ask posts created at each hour of the day.\n",
    "avg_by_hour=[]\n",
    "for hour in comments_by_hour:\n",
    "    avg_by_hour.append([hour,comments_by_hour[hour]/counts_by_hour[hour]])\n",
    "# print(avg_by_hour)\n",
    "avg_by_hour"
   ]
  },
  {
   "cell_type": "markdown",
   "metadata": {},
   "source": [
    "### Sorting and displaying top 5 hours for ask post comments"
   ]
  },
  {
   "cell_type": "code",
   "execution_count": 14,
   "metadata": {
    "collapsed": false
   },
   "outputs": [
    {
     "name": "stdout",
     "output_type": "stream",
     "text": [
      "Top 5 Hours for `Ask` Posts Comments \n",
      "\n",
      "15:00 38.59 average comments per post\n",
      "02:00 23.81 average comments per post\n",
      "20:00 21.52 average comments per post\n",
      "16:00 16.80 average comments per post\n",
      "21:00 16.01 average comments per post\n"
     ]
    }
   ],
   "source": [
    "swap_avg_by_hour = []\n",
    "\n",
    "for i in avg_by_hour:\n",
    "    swap_avg_by_hour.append([i[1],i[0]])\n",
    "#print(swap_avg_by_hour)\n",
    " \n",
    "sorted_swap = sorted(swap_avg_by_hour, reverse = True)\n",
    "\n",
    "print(\"Top 5 Hours for `Ask` Posts Comments \\n\")\n",
    "for avg, hr in sorted_swap[:5]:\n",
    "    \n",
    "    print(\"{}:00 {:.2f} average comments per post\".format(hr,avg))\n",
    "    \n",
    "\n"
   ]
  },
  {
   "cell_type": "markdown",
   "metadata": {},
   "source": [
    "We can infer that, the posts created at 15:00hrs received an average of 38.59 comments per post.According to the [documentation](https://www.kaggle.com/hacker-news/hacker-news-posts), the time zone is Eastern Time in the US ie, posts created at 3:00PM EST have a higher chance of receiving more comments."
   ]
  },
  {
   "cell_type": "markdown",
   "metadata": {},
   "source": [
    "### Conclusion\n",
    "\n",
    "\n",
    "In this project, wew worked with the [data set](https://www.kaggle.com/hacker-news/hacker-news-posts) of submissions to \n",
    "[Hacker News](https://news.ycombinator.com/) where user posts are voted and commented upon. We were comparing two types of posts: `Ask HN`- where users posted questions to Hacker News community  and `Show HN` - displays from the community. \n",
    "\n",
    "It was found out that on an average the ask posts received approx. 14 comments more than the show posts and posts created at 15:00hrs (3:00PM EST) received more comments. From our analysis, we can conclude that to receive more comments, posts should be created at 3:00PM EST."
   ]
  },
  {
   "cell_type": "code",
   "execution_count": null,
   "metadata": {
    "collapsed": true
   },
   "outputs": [],
   "source": []
  }
 ],
 "metadata": {
  "kernelspec": {
   "display_name": "Python 3",
   "language": "python",
   "name": "python3"
  },
  "language_info": {
   "codemirror_mode": {
    "name": "ipython",
    "version": 3
   },
   "file_extension": ".py",
   "mimetype": "text/x-python",
   "name": "python",
   "nbconvert_exporter": "python",
   "pygments_lexer": "ipython3",
   "version": "3.4.3"
  }
 },
 "nbformat": 4,
 "nbformat_minor": 2
}
